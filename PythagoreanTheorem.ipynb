{
  "nbformat": 4,
  "nbformat_minor": 0,
  "metadata": {
    "colab": {
      "provenance": [],
      "authorship_tag": "ABX9TyPr38HCh8mYmyzyyA16xVAw",
      "include_colab_link": true
    },
    "kernelspec": {
      "name": "python3",
      "display_name": "Python 3"
    },
    "language_info": {
      "name": "python"
    }
  },
  "cells": [
    {
      "cell_type": "markdown",
      "metadata": {
        "id": "view-in-github",
        "colab_type": "text"
      },
      "source": [
        "<a href=\"https://colab.research.google.com/github/avandersonnn/Assignment-1/blob/main/PythagoreanTheorem.ipynb\" target=\"_parent\"><img src=\"https://colab.research.google.com/assets/colab-badge.svg\" alt=\"Open In Colab\"/></a>"
      ]
    },
    {
      "cell_type": "code",
      "execution_count": null,
      "metadata": {
        "id": "0yxGkNFHJN5Z"
      },
      "outputs": [],
      "source": [
        "import math\n",
        "\n",
        "class Point:\n",
        "  def __init__(self, x, y):\n",
        "    self.x = x\n",
        "    self.y = y\n",
        "\n",
        "  def distance(self, other):\n",
        "    x_diff = self.x - other.x\n",
        "    y_diff = self.y - other.y\n",
        "    d = math.sqrt(x_diff**2 + y_diff**2)\n",
        "    return round(d,3)\n",
        "\n",
        "class Point3D(Point):\n",
        "  def __init__(self, x, y, z):\n",
        "    super().__init__(x, y)\n",
        "    self.z = z\n",
        "\n",
        "  def distance(self, other):\n",
        "    x_diff = self.x - other.x\n",
        "    y_diff = self.y - other.y\n",
        "    z_diff = self.z - other.z\n",
        "    d1 = math.sqrt(x_diff**2 + y_diff**2 + z_diff**2)\n",
        "    return round(d1,3)"
      ]
    },
    {
      "cell_type": "code",
      "source": [
        "a = Point(3,7)\n",
        "b = Point(5, 10)\n",
        "\n",
        "a.distance(b)"
      ],
      "metadata": {
        "id": "bohPiD-pJXQX"
      },
      "execution_count": null,
      "outputs": []
    },
    {
      "cell_type": "code",
      "source": [
        "c = Point3D(2, 5, 7)\n",
        "d = Point3D(4, 1, 9)\n",
        "\n",
        "c.distance(d)"
      ],
      "metadata": {
        "id": "0WFhqAbCJY8c"
      },
      "execution_count": null,
      "outputs": []
    }
  ]
}
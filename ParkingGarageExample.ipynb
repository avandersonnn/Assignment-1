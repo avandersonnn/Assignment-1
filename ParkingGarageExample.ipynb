{
  "nbformat": 4,
  "nbformat_minor": 0,
  "metadata": {
    "colab": {
      "provenance": [],
      "authorship_tag": "ABX9TyODVHWvsWgxletC9abrk7Bg",
      "include_colab_link": true
    },
    "kernelspec": {
      "name": "python3",
      "display_name": "Python 3"
    },
    "language_info": {
      "name": "python"
    }
  },
  "cells": [
    {
      "cell_type": "markdown",
      "metadata": {
        "id": "view-in-github",
        "colab_type": "text"
      },
      "source": [
        "<a href=\"https://colab.research.google.com/github/avandersonnn/Assignment-1/blob/main/ParkingGarageExample.ipynb\" target=\"_parent\"><img src=\"https://colab.research.google.com/assets/colab-badge.svg\" alt=\"Open In Colab\"/></a>"
      ]
    },
    {
      "cell_type": "code",
      "execution_count": 5,
      "metadata": {
        "colab": {
          "base_uri": "https://localhost:8080/",
          "height": 108
        },
        "id": "5h5gtAZsGpPn",
        "outputId": "18df0193-7f37-47f9-be0a-012b3500a948"
      },
      "outputs": [
        {
          "output_type": "error",
          "ename": "SyntaxError",
          "evalue": "f-string: empty expression not allowed (<ipython-input-5-e0d64e040ff7>, line 8)",
          "traceback": [
            "\u001b[0;36m  File \u001b[0;32m\"<ipython-input-5-e0d64e040ff7>\"\u001b[0;36m, line \u001b[0;32m8\u001b[0m\n\u001b[0;31m    print(f'{}')\u001b[0m\n\u001b[0m               ^\u001b[0m\n\u001b[0;31mSyntaxError\u001b[0m\u001b[0;31m:\u001b[0m f-string: empty expression not allowed\n"
          ]
        }
      ],
      "source": [
        "fee_fixed = 5\n",
        "fee_hr = 2.5\n",
        "\n",
        "for hour in range(1,9 ,1):\n",
        "  print(f'{hour}) ${fee_fixed + fee_hr * hour}')\n",
        "\n",
        "\n",
        "print(f'{}')"
      ]
    },
    {
      "cell_type": "code",
      "source": [
        "fee_fixed = 5\n",
        "fee_hr = 2.5\n",
        "\n",
        "for hour in range(1,9 ,1):\n",
        "  fee_total = fee_fixed + fee_hr * hour\n",
        "  if fee_total < 10:\n",
        "    print(f'{hour}) $10.0')\n",
        "  elif fee_total < 20:\n",
        "    print(f'{hour}) ${fee_total}')\n",
        "  else:\n",
        "    print(f'{hour}) $20.0')"
      ],
      "metadata": {
        "colab": {
          "base_uri": "https://localhost:8080/"
        },
        "id": "7Zr8kmBYGwh_",
        "outputId": "34d48204-5edb-46e6-e909-dfd2de3d7862"
      },
      "execution_count": 2,
      "outputs": [
        {
          "output_type": "stream",
          "name": "stdout",
          "text": [
            "1) $10.0\n",
            "2) $10.0\n",
            "3) $12.5\n",
            "4) $15.0\n",
            "5) $17.5\n",
            "6) $20.0\n",
            "7) $20.0\n",
            "8) $20.0\n"
          ]
        }
      ]
    }
  ]
}
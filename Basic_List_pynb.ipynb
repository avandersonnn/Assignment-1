{
  "nbformat": 4,
  "nbformat_minor": 0,
  "metadata": {
    "colab": {
      "provenance": [],
      "authorship_tag": "ABX9TyM5FjzM5dARR8qudL7m2I1H",
      "include_colab_link": true
    },
    "kernelspec": {
      "name": "python3",
      "display_name": "Python 3"
    },
    "language_info": {
      "name": "python"
    }
  },
  "cells": [
    {
      "cell_type": "markdown",
      "metadata": {
        "id": "view-in-github",
        "colab_type": "text"
      },
      "source": [
        "<a href=\"https://colab.research.google.com/github/avandersonnn/Assignment-1/blob/main/Basic_List_pynb.ipynb\" target=\"_parent\"><img src=\"https://colab.research.google.com/assets/colab-badge.svg\" alt=\"Open In Colab\"/></a>"
      ]
    },
    {
      "cell_type": "code",
      "execution_count": 2,
      "metadata": {
        "colab": {
          "base_uri": "https://localhost:8080/"
        },
        "id": "b8vExzwyBmt6",
        "outputId": "f6e847f3-8e13-4f4c-f4a3-6a0281c4498f"
      },
      "outputs": [
        {
          "output_type": "stream",
          "name": "stdout",
          "text": [
            "Input an integer to be added to the list: 3\n",
            "[3]\n",
            "Input an integer to be added to the list: 4\n",
            "[3, 4]\n",
            "Input an integer to be added to the list: 7\n",
            "[3, 4, 7]\n",
            "Input an integer to be added to the list: 0\n",
            "Game over.\n"
          ]
        }
      ],
      "source": [
        "list = []\n",
        "x = int(input('Input an integer to be added to the list: '))\n",
        "\n",
        "while x != 0:\n",
        "  list.append(x)\n",
        "  print(list,end='\\n')\n",
        "  x = int(input('Input an integer to be added to the list: '))\n",
        "\n",
        "if x == 0:\n",
        "  print(\"Game over.\")\n",
        "\n"
      ]
    }
  ]
}
{
  "nbformat": 4,
  "nbformat_minor": 0,
  "metadata": {
    "colab": {
      "provenance": [],
      "authorship_tag": "ABX9TyMYbf/ZpinDL8Qd7CQQF+tA",
      "include_colab_link": true
    },
    "kernelspec": {
      "name": "python3",
      "display_name": "Python 3"
    },
    "language_info": {
      "name": "python"
    }
  },
  "cells": [
    {
      "cell_type": "markdown",
      "metadata": {
        "id": "view-in-github",
        "colab_type": "text"
      },
      "source": [
        "<a href=\"https://colab.research.google.com/github/avandersonnn/Assignment-1/blob/main/Leap_Year_Calculation.ipynb\" target=\"_parent\"><img src=\"https://colab.research.google.com/assets/colab-badge.svg\" alt=\"Open In Colab\"/></a>"
      ]
    },
    {
      "cell_type": "code",
      "execution_count": 1,
      "metadata": {
        "colab": {
          "base_uri": "https://localhost:8080/"
        },
        "id": "qZyo-TM8FvZo",
        "outputId": "851d5fd6-c94f-4a8a-f7c0-0edcbdffd24e"
      },
      "outputs": [
        {
          "output_type": "stream",
          "name": "stdout",
          "text": [
            "Enter year: 2002\n",
            "The year 2002 is not a leap year\n"
          ]
        }
      ],
      "source": [
        "year = int(input('Enter year: '))\n",
        "\n",
        "if (year%4 == 0 and year%100 != 0) or (year%400 == 0):\n",
        "  print(f'The year {year} is a leap year')\n",
        "else:\n",
        "  print(f'The year {year} is not a leap year')"
      ]
    }
  ]
}
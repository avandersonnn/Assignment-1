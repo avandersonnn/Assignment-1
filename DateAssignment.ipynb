{
  "nbformat": 4,
  "nbformat_minor": 0,
  "metadata": {
    "colab": {
      "provenance": [],
      "authorship_tag": "ABX9TyMIHHmrKqSlfspXF36oQ1+Z",
      "include_colab_link": true
    },
    "kernelspec": {
      "name": "python3",
      "display_name": "Python 3"
    },
    "language_info": {
      "name": "python"
    }
  },
  "cells": [
    {
      "cell_type": "markdown",
      "metadata": {
        "id": "view-in-github",
        "colab_type": "text"
      },
      "source": [
        "<a href=\"https://colab.research.google.com/github/avandersonnn/Assignment-1/blob/main/DateAssignment.ipynb\" target=\"_parent\"><img src=\"https://colab.research.google.com/assets/colab-badge.svg\" alt=\"Open In Colab\"/></a>"
      ]
    },
    {
      "cell_type": "code",
      "execution_count": 1,
      "metadata": {
        "colab": {
          "base_uri": "https://localhost:8080/"
        },
        "id": "zaT1UuPOEin_",
        "outputId": "19fee014-a7e2-49ae-f4d6-23d220f78fc7"
      },
      "outputs": [
        {
          "output_type": "stream",
          "name": "stdout",
          "text": [
            "Enter the date using MM/DD/YYYY: 06/12/2004\n",
            "Month: 06\n",
            "Month: 12\n",
            "Month: 2004\n"
          ]
        }
      ],
      "source": [
        "date = input(\"Enter the date using MM/DD/YYYY: \")\n",
        "date_m = date[:2]\n",
        "date_d = date[3:5]\n",
        "date_y = date[6:10]\n",
        "print(f'Month: {date_m}', end='\\n')\n",
        "print(f'Month: {date_d}', end='\\n')\n",
        "print(f'Month: {date_y}')"
      ]
    }
  ]
}